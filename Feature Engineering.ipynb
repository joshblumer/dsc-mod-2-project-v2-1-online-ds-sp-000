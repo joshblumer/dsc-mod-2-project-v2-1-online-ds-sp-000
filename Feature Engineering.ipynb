{
 "cells": [
  {
   "cell_type": "markdown",
   "metadata": {},
   "source": [
    "# Import File and Libraries"
   ]
  },
  {
   "cell_type": "code",
   "execution_count": null,
   "metadata": {},
   "outputs": [],
   "source": []
  },
  {
   "cell_type": "markdown",
   "metadata": {},
   "source": [
    "# Feature Engineering"
   ]
  },
  {
   "cell_type": "markdown",
   "metadata": {},
   "source": [
    "## Engineering Distance From City Using Haversine Package"
   ]
  },
  {
   "cell_type": "code",
   "execution_count": null,
   "metadata": {},
   "outputs": [],
   "source": [
    "from haversine import haversine\n",
    "\n",
    "seattle = [47.6092, -122.3363]\n",
    "bellevue = [47.61555, -122.20392]"
   ]
  },
  {
   "cell_type": "code",
   "execution_count": null,
   "metadata": {},
   "outputs": [],
   "source": [
    "haversine(seattle, bellevue, unit ='mi')"
   ]
  },
  {
   "cell_type": "code",
   "execution_count": null,
   "metadata": {},
   "outputs": [],
   "source": [
    "df['lat_long'] = tuple(zip(df.lat, df.long))"
   ]
  },
  {
   "cell_type": "code",
   "execution_count": null,
   "metadata": {},
   "outputs": [],
   "source": [
    "seattle_distances = []\n",
    "for i in df['lat_long']:\n",
    "    seattle_distances.append(haversine((seattle), (i), unit = 'mi'))\n",
    "df['distance_from_seattle'] = pd.Series(seattle_distances)\n",
    "\n",
    "bellevue_distances = []\n",
    "for i in df['lat_long']:\n",
    "    bellevue_distances.append(haversine((bellevue), (i), unit = 'mi'))\n",
    "df['distance_from_bellevue'] = pd.Series(bellevue_distances)"
   ]
  },
  {
   "cell_type": "code",
   "execution_count": null,
   "metadata": {},
   "outputs": [],
   "source": [
    "df['distance_from_city'] = df[['distance_from_bellevue', 'distance_from_seattle"
   ]
  },
  {
   "cell_type": "code",
   "execution_count": null,
   "metadata": {},
   "outputs": [],
   "source": [
    "df.head()"
   ]
  },
  {
   "cell_type": "code",
   "execution_count": null,
   "metadata": {},
   "outputs": [],
   "source": [
    "df.corr()"
   ]
  },
  {
   "cell_type": "code",
   "execution_count": null,
   "metadata": {},
   "outputs": [],
   "source": [
    "df.drop(['lat', 'long', 'lat_long', 'distance_from_seattle', 'distance_from_bellevue'], axis = 1, inplace = True)"
   ]
  },
  {
   "cell_type": "code",
   "execution_count": null,
   "metadata": {},
   "outputs": [],
   "source": [
    "df.head()"
   ]
  },
  {
   "cell_type": "code",
   "execution_count": null,
   "metadata": {},
   "outputs": [],
   "source": [
    "df['distance_from_city'] = df['distance_from_city'].fillna(df['distance_from_city'].mode()[0])"
   ]
  },
  {
   "cell_type": "code",
   "execution_count": null,
   "metadata": {},
   "outputs": [],
   "source": []
  },
  {
   "cell_type": "markdown",
   "metadata": {},
   "source": [
    "## Bin Zip Codes into School Districts"
   ]
  },
  {
   "cell_type": "code",
   "execution_count": null,
   "metadata": {},
   "outputs": [],
   "source": [
    "df['zipcode'].nunique()"
   ]
  },
  {
   "cell_type": "code",
   "execution_count": null,
   "metadata": {},
   "outputs": [],
   "source": [
    "plt.figure(figsize=(20,8))\n",
    "zc = sns.barplot(x = 'zipcode', y ='price', data = df)\n",
    "for item in zc.get_xticklabels():\n",
    "    item.set_rotation(45)"
   ]
  },
  {
   "cell_type": "code",
   "execution_count": null,
   "metadata": {},
   "outputs": [],
   "source": [
    "def group_zips(z):\n",
    "    if z in [98177, 98133, 98125, 98155]:\n",
    "        return 'Shoreline'\n",
    "    \n",
    "    elif z in [98028, 98011, 98072, 98077]:\n",
    "        return 'Northshore'\n",
    "    \n",
    "    elif z in [98019, 98014]:\n",
    "        return 'Riverview'\n",
    "    \n",
    "    elif z in [98117, 98103, 98115, 98107, 98105, 98199, 98119, 98109, 98102, \n",
    "               98112, 98122, 98116, 98136, 98126,\n",
    "               98106, 98144, 98108, 98118]:\n",
    "        return 'Seattle'\n",
    "    \n",
    "    elif z in [98040]:\n",
    "        return 'MercerIsland'\n",
    "    \n",
    "    elif z in [98034, 98052, 98053, 98033, 98074]:\n",
    "        return 'LakeWashington'\n",
    "    \n",
    "    elif z in [98039, 98004, 98005, 98007, 98008, 98006]:\n",
    "        return 'Bellevue'\n",
    "    \n",
    "    elif z in [98059, 98027, 98075, 98029]:\n",
    "        return 'Issaquah'\n",
    "    \n",
    "    elif z in [98024, 98065, 98045]:\n",
    "        return 'SnoqualmieValley'\n",
    "    \n",
    "    elif z in [98168]:\n",
    "        return 'Tukwila'\n",
    "    \n",
    "    elif z in [98178, 98056, 98055]:\n",
    "        return 'Renton'\n",
    "    \n",
    "    elif z in [98070]:\n",
    "        return 'VashonIsland'\n",
    "    \n",
    "    elif z in [98146, 98166, 98148, 98188]:\n",
    "        return 'Highline'\n",
    "    \n",
    "    elif z in [98198, 98023, 98003, 98001]:\n",
    "        return 'FederalWay'\n",
    "    \n",
    "    elif z in [98032, 98031, 98030, 98042, 98058]:\n",
    "        return 'Kent'\n",
    "    \n",
    "    elif z in [98002, 98092]:\n",
    "        return 'Auburn'\n",
    "    \n",
    "    elif z in [98038]:\n",
    "        return 'Tahoma'\n",
    "    \n",
    "    elif z in [98022, 98010]:\n",
    "        return 'Enumclaw'"
   ]
  },
  {
   "cell_type": "code",
   "execution_count": null,
   "metadata": {},
   "outputs": [],
   "source": [
    "df['zipcode'] = df['zipcode'].map(group_zips)"
   ]
  },
  {
   "cell_type": "code",
   "execution_count": null,
   "metadata": {},
   "outputs": [],
   "source": [
    "df['zipcode'].head()"
   ]
  },
  {
   "cell_type": "code",
   "execution_count": null,
   "metadata": {},
   "outputs": [],
   "source": [
    "sns.boxplot(x = 'zipcode', y = 'price', data = dfh)"
   ]
  },
  {
   "cell_type": "markdown",
   "metadata": {},
   "source": [
    "## One Hot Encode Categorical Variables"
   ]
  },
  {
   "cell_type": "code",
   "execution_count": null,
   "metadata": {},
   "outputs": [],
   "source": [
    "from sklearn.preprocessing import OneHotEncoder\n",
    "ohc = OneHotEncoder()\n",
    "ohe = ohc.fit_transform(df.zipcode.values.reshape(-1,1)).toarray()\n",
    "dfOneHot = pd.DataFrame(ohe, columns = ['SD_' + str(ohc.categories_[0][i]) for i in range(len(ohc.categories_[0]))])\n",
    "dfh = pd.concat([df, dfOneHot], axis = 1)\n",
    "dfh.head()"
   ]
  },
  {
   "cell_type": "code",
   "execution_count": null,
   "metadata": {},
   "outputs": [],
   "source": [
    "dfh.drop(['zipcode'], axis = 1, inplace = True)"
   ]
  }
 ],
 "metadata": {
  "kernelspec": {
   "display_name": "learn-env",
   "language": "python",
   "name": "learn-env"
  },
  "language_info": {
   "codemirror_mode": {
    "name": "ipython",
    "version": 3
   },
   "file_extension": ".py",
   "mimetype": "text/x-python",
   "name": "python",
   "nbconvert_exporter": "python",
   "pygments_lexer": "ipython3",
   "version": "3.6.6"
  },
  "toc": {
   "base_numbering": 1,
   "nav_menu": {},
   "number_sections": true,
   "sideBar": true,
   "skip_h1_title": false,
   "title_cell": "Table of Contents",
   "title_sidebar": "Contents",
   "toc_cell": false,
   "toc_position": {},
   "toc_section_display": true,
   "toc_window_display": false
  }
 },
 "nbformat": 4,
 "nbformat_minor": 4
}
