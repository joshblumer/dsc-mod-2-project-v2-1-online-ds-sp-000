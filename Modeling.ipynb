{
 "cells": [
  {
   "cell_type": "markdown",
   "metadata": {},
   "source": [
    "# Import File and Libraries"
   ]
  },
  {
   "cell_type": "code",
   "execution_count": 1,
   "metadata": {},
   "outputs": [],
   "source": [
    "import pandas as pd\n",
    "import numpy as np\n",
    "import matplotlib.pyplot as plt\n",
    "%matplotlib inline\n",
    "import seaborn as sns\n",
    "from scipy import stats\n",
    "import datetime as dt"
   ]
  },
  {
   "cell_type": "code",
   "execution_count": 2,
   "metadata": {},
   "outputs": [],
   "source": [
    "import statsmodels.api as sm\n",
    "from statsmodels.formula.api import ols"
   ]
  },
  {
   "cell_type": "code",
   "execution_count": 6,
   "metadata": {},
   "outputs": [
    {
     "data": {
      "text/html": [
       "<div>\n",
       "<style scoped>\n",
       "    .dataframe tbody tr th:only-of-type {\n",
       "        vertical-align: middle;\n",
       "    }\n",
       "\n",
       "    .dataframe tbody tr th {\n",
       "        vertical-align: top;\n",
       "    }\n",
       "\n",
       "    .dataframe thead th {\n",
       "        text-align: right;\n",
       "    }\n",
       "</style>\n",
       "<table border=\"1\" class=\"dataframe\">\n",
       "  <thead>\n",
       "    <tr style=\"text-align: right;\">\n",
       "      <th></th>\n",
       "      <th>price</th>\n",
       "      <th>bedrooms</th>\n",
       "      <th>bathrooms</th>\n",
       "      <th>floors</th>\n",
       "      <th>waterfront</th>\n",
       "      <th>view</th>\n",
       "      <th>condition</th>\n",
       "      <th>grade</th>\n",
       "      <th>yrs_old</th>\n",
       "      <th>renovated</th>\n",
       "      <th>...</th>\n",
       "      <th>SD_MercerIsland</th>\n",
       "      <th>SD_Northshore</th>\n",
       "      <th>SD_Renton</th>\n",
       "      <th>SD_Riverview</th>\n",
       "      <th>SD_Seattle</th>\n",
       "      <th>SD_Shoreline</th>\n",
       "      <th>SD_SnoqualmieValley</th>\n",
       "      <th>SD_Tahoma</th>\n",
       "      <th>SD_Tukwila</th>\n",
       "      <th>SD_VashonIsland</th>\n",
       "    </tr>\n",
       "  </thead>\n",
       "  <tbody>\n",
       "    <tr>\n",
       "      <th>0</th>\n",
       "      <td>221900.0</td>\n",
       "      <td>3</td>\n",
       "      <td>1.00</td>\n",
       "      <td>1.0</td>\n",
       "      <td>0.0</td>\n",
       "      <td>0.0</td>\n",
       "      <td>3</td>\n",
       "      <td>7</td>\n",
       "      <td>59</td>\n",
       "      <td>0</td>\n",
       "      <td>...</td>\n",
       "      <td>0.0</td>\n",
       "      <td>0.0</td>\n",
       "      <td>1.0</td>\n",
       "      <td>0.0</td>\n",
       "      <td>0.0</td>\n",
       "      <td>0.0</td>\n",
       "      <td>0.0</td>\n",
       "      <td>0.0</td>\n",
       "      <td>0.0</td>\n",
       "      <td>0.0</td>\n",
       "    </tr>\n",
       "    <tr>\n",
       "      <th>1</th>\n",
       "      <td>538000.0</td>\n",
       "      <td>3</td>\n",
       "      <td>2.25</td>\n",
       "      <td>2.0</td>\n",
       "      <td>0.0</td>\n",
       "      <td>0.0</td>\n",
       "      <td>3</td>\n",
       "      <td>7</td>\n",
       "      <td>63</td>\n",
       "      <td>1</td>\n",
       "      <td>...</td>\n",
       "      <td>0.0</td>\n",
       "      <td>0.0</td>\n",
       "      <td>0.0</td>\n",
       "      <td>0.0</td>\n",
       "      <td>0.0</td>\n",
       "      <td>1.0</td>\n",
       "      <td>0.0</td>\n",
       "      <td>0.0</td>\n",
       "      <td>0.0</td>\n",
       "      <td>0.0</td>\n",
       "    </tr>\n",
       "    <tr>\n",
       "      <th>2</th>\n",
       "      <td>180000.0</td>\n",
       "      <td>2</td>\n",
       "      <td>1.00</td>\n",
       "      <td>1.0</td>\n",
       "      <td>0.0</td>\n",
       "      <td>0.0</td>\n",
       "      <td>3</td>\n",
       "      <td>6</td>\n",
       "      <td>82</td>\n",
       "      <td>1</td>\n",
       "      <td>...</td>\n",
       "      <td>0.0</td>\n",
       "      <td>1.0</td>\n",
       "      <td>0.0</td>\n",
       "      <td>0.0</td>\n",
       "      <td>0.0</td>\n",
       "      <td>0.0</td>\n",
       "      <td>0.0</td>\n",
       "      <td>0.0</td>\n",
       "      <td>0.0</td>\n",
       "      <td>0.0</td>\n",
       "    </tr>\n",
       "    <tr>\n",
       "      <th>3</th>\n",
       "      <td>604000.0</td>\n",
       "      <td>4</td>\n",
       "      <td>3.00</td>\n",
       "      <td>1.0</td>\n",
       "      <td>0.0</td>\n",
       "      <td>0.0</td>\n",
       "      <td>5</td>\n",
       "      <td>7</td>\n",
       "      <td>49</td>\n",
       "      <td>0</td>\n",
       "      <td>...</td>\n",
       "      <td>0.0</td>\n",
       "      <td>0.0</td>\n",
       "      <td>0.0</td>\n",
       "      <td>0.0</td>\n",
       "      <td>1.0</td>\n",
       "      <td>0.0</td>\n",
       "      <td>0.0</td>\n",
       "      <td>0.0</td>\n",
       "      <td>0.0</td>\n",
       "      <td>0.0</td>\n",
       "    </tr>\n",
       "    <tr>\n",
       "      <th>4</th>\n",
       "      <td>510000.0</td>\n",
       "      <td>3</td>\n",
       "      <td>2.00</td>\n",
       "      <td>1.0</td>\n",
       "      <td>0.0</td>\n",
       "      <td>0.0</td>\n",
       "      <td>3</td>\n",
       "      <td>8</td>\n",
       "      <td>28</td>\n",
       "      <td>0</td>\n",
       "      <td>...</td>\n",
       "      <td>0.0</td>\n",
       "      <td>0.0</td>\n",
       "      <td>0.0</td>\n",
       "      <td>0.0</td>\n",
       "      <td>0.0</td>\n",
       "      <td>0.0</td>\n",
       "      <td>0.0</td>\n",
       "      <td>0.0</td>\n",
       "      <td>0.0</td>\n",
       "      <td>0.0</td>\n",
       "    </tr>\n",
       "  </tbody>\n",
       "</table>\n",
       "<p>5 rows × 30 columns</p>\n",
       "</div>"
      ],
      "text/plain": [
       "      price  bedrooms  bathrooms  floors  waterfront  view  condition  grade  \\\n",
       "0  221900.0         3       1.00     1.0         0.0   0.0          3      7   \n",
       "1  538000.0         3       2.25     2.0         0.0   0.0          3      7   \n",
       "2  180000.0         2       1.00     1.0         0.0   0.0          3      6   \n",
       "3  604000.0         4       3.00     1.0         0.0   0.0          5      7   \n",
       "4  510000.0         3       2.00     1.0         0.0   0.0          3      8   \n",
       "\n",
       "   yrs_old  renovated       ...         SD_MercerIsland  SD_Northshore  \\\n",
       "0       59          0       ...                     0.0            0.0   \n",
       "1       63          1       ...                     0.0            0.0   \n",
       "2       82          1       ...                     0.0            1.0   \n",
       "3       49          0       ...                     0.0            0.0   \n",
       "4       28          0       ...                     0.0            0.0   \n",
       "\n",
       "   SD_Renton  SD_Riverview  SD_Seattle  SD_Shoreline  SD_SnoqualmieValley  \\\n",
       "0        1.0           0.0         0.0           0.0                  0.0   \n",
       "1        0.0           0.0         0.0           1.0                  0.0   \n",
       "2        0.0           0.0         0.0           0.0                  0.0   \n",
       "3        0.0           0.0         1.0           0.0                  0.0   \n",
       "4        0.0           0.0         0.0           0.0                  0.0   \n",
       "\n",
       "   SD_Tahoma  SD_Tukwila  SD_VashonIsland  \n",
       "0        0.0         0.0              0.0  \n",
       "1        0.0         0.0              0.0  \n",
       "2        0.0         0.0              0.0  \n",
       "3        0.0         0.0              0.0  \n",
       "4        0.0         0.0              0.0  \n",
       "\n",
       "[5 rows x 30 columns]"
      ]
     },
     "execution_count": 6,
     "metadata": {},
     "output_type": "execute_result"
    }
   ],
   "source": [
    "# Read file in as Pandas dataframe\n",
    "\n",
    "dfh = pd.read_csv('kc_house_data.csv')\n",
    "dfh.head()"
   ]
  },
  {
   "cell_type": "markdown",
   "metadata": {},
   "source": [
    "# Linear Regression Using Statsmodels"
   ]
  },
  {
   "cell_type": "code",
   "execution_count": 7,
   "metadata": {},
   "outputs": [
    {
     "data": {
      "text/html": [
       "<table class=\"simpletable\">\n",
       "<caption>OLS Regression Results</caption>\n",
       "<tr>\n",
       "  <th>Dep. Variable:</th>          <td>price</td>      <th>  R-squared:         </th>  <td>   0.381</td>  \n",
       "</tr>\n",
       "<tr>\n",
       "  <th>Model:</th>                   <td>OLS</td>       <th>  Adj. R-squared:    </th>  <td>   0.381</td>  \n",
       "</tr>\n",
       "<tr>\n",
       "  <th>Method:</th>             <td>Least Squares</td>  <th>  F-statistic:       </th>  <td>1.241e+04</td> \n",
       "</tr>\n",
       "<tr>\n",
       "  <th>Date:</th>             <td>Wed, 10 Feb 2021</td> <th>  Prob (F-statistic):</th>   <td>  0.00</td>   \n",
       "</tr>\n",
       "<tr>\n",
       "  <th>Time:</th>                 <td>11:56:40</td>     <th>  Log-Likelihood:    </th> <td>-2.6918e+05</td>\n",
       "</tr>\n",
       "<tr>\n",
       "  <th>No. Observations:</th>      <td> 20137</td>      <th>  AIC:               </th>  <td>5.384e+05</td> \n",
       "</tr>\n",
       "<tr>\n",
       "  <th>Df Residuals:</th>          <td> 20135</td>      <th>  BIC:               </th>  <td>5.384e+05</td> \n",
       "</tr>\n",
       "<tr>\n",
       "  <th>Df Model:</th>              <td>     1</td>      <th>                     </th>      <td> </td>     \n",
       "</tr>\n",
       "<tr>\n",
       "  <th>Covariance Type:</th>      <td>nonrobust</td>    <th>                     </th>      <td> </td>     \n",
       "</tr>\n",
       "</table>\n",
       "<table class=\"simpletable\">\n",
       "<tr>\n",
       "      <td></td>         <th>coef</th>     <th>std err</th>      <th>t</th>      <th>P>|t|</th>  <th>[0.025</th>    <th>0.975]</th>  \n",
       "</tr>\n",
       "<tr>\n",
       "  <th>Intercept</th> <td>-4.313e+05</td> <td> 8146.077</td> <td>  -52.940</td> <td> 0.000</td> <td>-4.47e+05</td> <td>-4.15e+05</td>\n",
       "</tr>\n",
       "<tr>\n",
       "  <th>grade</th>     <td> 1.198e+05</td> <td> 1075.603</td> <td>  111.386</td> <td> 0.000</td> <td> 1.18e+05</td> <td> 1.22e+05</td>\n",
       "</tr>\n",
       "</table>\n",
       "<table class=\"simpletable\">\n",
       "<tr>\n",
       "  <th>Omnibus:</th>       <td>949.715</td> <th>  Durbin-Watson:     </th> <td>   1.958</td> \n",
       "</tr>\n",
       "<tr>\n",
       "  <th>Prob(Omnibus):</th> <td> 0.000</td>  <th>  Jarque-Bera (JB):  </th> <td>1087.819</td> \n",
       "</tr>\n",
       "<tr>\n",
       "  <th>Skew:</th>          <td> 0.563</td>  <th>  Prob(JB):          </th> <td>6.07e-237</td>\n",
       "</tr>\n",
       "<tr>\n",
       "  <th>Kurtosis:</th>      <td> 3.175</td>  <th>  Cond. No.          </th> <td>    57.6</td> \n",
       "</tr>\n",
       "</table><br/><br/>Warnings:<br/>[1] Standard Errors assume that the covariance matrix of the errors is correctly specified."
      ],
      "text/plain": [
       "<class 'statsmodels.iolib.summary.Summary'>\n",
       "\"\"\"\n",
       "                            OLS Regression Results                            \n",
       "==============================================================================\n",
       "Dep. Variable:                  price   R-squared:                       0.381\n",
       "Model:                            OLS   Adj. R-squared:                  0.381\n",
       "Method:                 Least Squares   F-statistic:                 1.241e+04\n",
       "Date:                Wed, 10 Feb 2021   Prob (F-statistic):               0.00\n",
       "Time:                        11:56:40   Log-Likelihood:            -2.6918e+05\n",
       "No. Observations:               20137   AIC:                         5.384e+05\n",
       "Df Residuals:                   20135   BIC:                         5.384e+05\n",
       "Df Model:                           1                                         \n",
       "Covariance Type:            nonrobust                                         \n",
       "==============================================================================\n",
       "                 coef    std err          t      P>|t|      [0.025      0.975]\n",
       "------------------------------------------------------------------------------\n",
       "Intercept  -4.313e+05   8146.077    -52.940      0.000   -4.47e+05   -4.15e+05\n",
       "grade       1.198e+05   1075.603    111.386      0.000    1.18e+05    1.22e+05\n",
       "==============================================================================\n",
       "Omnibus:                      949.715   Durbin-Watson:                   1.958\n",
       "Prob(Omnibus):                  0.000   Jarque-Bera (JB):             1087.819\n",
       "Skew:                           0.563   Prob(JB):                    6.07e-237\n",
       "Kurtosis:                       3.175   Cond. No.                         57.6\n",
       "==============================================================================\n",
       "\n",
       "Warnings:\n",
       "[1] Standard Errors assume that the covariance matrix of the errors is correctly specified.\n",
       "\"\"\""
      ]
     },
     "execution_count": 7,
     "metadata": {},
     "output_type": "execute_result"
    }
   ],
   "source": [
    "formula = 'price ~ grade'\n",
    "model = ols(formula = formula, data = dfh).fit()\n",
    "model.summary()"
   ]
  },
  {
   "cell_type": "code",
   "execution_count": 22,
   "metadata": {},
   "outputs": [],
   "source": [
    "dfh.drop(['renovated'], axis = 1, inplace = True)"
   ]
  },
  {
   "cell_type": "code",
   "execution_count": 25,
   "metadata": {},
   "outputs": [],
   "source": [
    "dfh.drop(['SD_VashonIsland'], axis = 1, inplace = True)"
   ]
  },
  {
   "cell_type": "code",
   "execution_count": 26,
   "metadata": {},
   "outputs": [],
   "source": [
    "outcome = 'price'\n",
    "predictors = dfh.drop(['price'], axis=1)\n",
    "pred_sum = '+'.join(predictors.columns)\n",
    "formula = outcome + '~' + pred_sum"
   ]
  },
  {
   "cell_type": "code",
   "execution_count": 27,
   "metadata": {},
   "outputs": [
    {
     "data": {
      "text/html": [
       "<table class=\"simpletable\">\n",
       "<caption>OLS Regression Results</caption>\n",
       "<tr>\n",
       "  <th>Dep. Variable:</th>          <td>price</td>      <th>  R-squared:         </th>  <td>   0.717</td>  \n",
       "</tr>\n",
       "<tr>\n",
       "  <th>Model:</th>                   <td>OLS</td>       <th>  Adj. R-squared:    </th>  <td>   0.716</td>  \n",
       "</tr>\n",
       "<tr>\n",
       "  <th>Method:</th>             <td>Least Squares</td>  <th>  F-statistic:       </th>  <td>   1883.</td>  \n",
       "</tr>\n",
       "<tr>\n",
       "  <th>Date:</th>             <td>Wed, 10 Feb 2021</td> <th>  Prob (F-statistic):</th>   <td>  0.00</td>   \n",
       "</tr>\n",
       "<tr>\n",
       "  <th>Time:</th>                 <td>12:00:56</td>     <th>  Log-Likelihood:    </th> <td>-2.6132e+05</td>\n",
       "</tr>\n",
       "<tr>\n",
       "  <th>No. Observations:</th>      <td> 20137</td>      <th>  AIC:               </th>  <td>5.227e+05</td> \n",
       "</tr>\n",
       "<tr>\n",
       "  <th>Df Residuals:</th>          <td> 20109</td>      <th>  BIC:               </th>  <td>5.229e+05</td> \n",
       "</tr>\n",
       "<tr>\n",
       "  <th>Df Model:</th>              <td>    27</td>      <th>                     </th>      <td> </td>     \n",
       "</tr>\n",
       "<tr>\n",
       "  <th>Covariance Type:</th>      <td>nonrobust</td>    <th>                     </th>      <td> </td>     \n",
       "</tr>\n",
       "</table>\n",
       "<table class=\"simpletable\">\n",
       "<tr>\n",
       "           <td></td>              <th>coef</th>     <th>std err</th>      <th>t</th>      <th>P>|t|</th>  <th>[0.025</th>    <th>0.975]</th>  \n",
       "</tr>\n",
       "<tr>\n",
       "  <th>Intercept</th>           <td>-4.828e+05</td> <td> 1.44e+04</td> <td>  -33.457</td> <td> 0.000</td> <td>-5.11e+05</td> <td>-4.54e+05</td>\n",
       "</tr>\n",
       "<tr>\n",
       "  <th>bedrooms</th>            <td> 1.498e+04</td> <td> 1013.097</td> <td>   14.789</td> <td> 0.000</td> <td>  1.3e+04</td> <td>  1.7e+04</td>\n",
       "</tr>\n",
       "<tr>\n",
       "  <th>bathrooms</th>           <td> 5.056e+04</td> <td> 1700.316</td> <td>   29.737</td> <td> 0.000</td> <td> 4.72e+04</td> <td> 5.39e+04</td>\n",
       "</tr>\n",
       "<tr>\n",
       "  <th>floors</th>              <td> 1.449e+04</td> <td> 2018.740</td> <td>    7.176</td> <td> 0.000</td> <td> 1.05e+04</td> <td> 1.84e+04</td>\n",
       "</tr>\n",
       "<tr>\n",
       "  <th>waterfront</th>          <td> 1.475e+05</td> <td> 1.59e+04</td> <td>    9.290</td> <td> 0.000</td> <td> 1.16e+05</td> <td> 1.79e+05</td>\n",
       "</tr>\n",
       "<tr>\n",
       "  <th>view</th>                <td> 3.346e+04</td> <td> 1290.963</td> <td>   25.922</td> <td> 0.000</td> <td> 3.09e+04</td> <td>  3.6e+04</td>\n",
       "</tr>\n",
       "<tr>\n",
       "  <th>condition</th>           <td> 1.922e+04</td> <td> 1262.306</td> <td>   15.229</td> <td> 0.000</td> <td> 1.67e+04</td> <td> 2.17e+04</td>\n",
       "</tr>\n",
       "<tr>\n",
       "  <th>grade</th>               <td> 9.833e+04</td> <td> 1008.435</td> <td>   97.511</td> <td> 0.000</td> <td> 9.64e+04</td> <td>    1e+05</td>\n",
       "</tr>\n",
       "<tr>\n",
       "  <th>yrs_old</th>             <td> 1551.7721</td> <td>   40.269</td> <td>   38.535</td> <td> 0.000</td> <td> 1472.842</td> <td> 1630.702</td>\n",
       "</tr>\n",
       "<tr>\n",
       "  <th>basement</th>            <td> 2981.1073</td> <td> 1813.551</td> <td>    1.644</td> <td> 0.100</td> <td> -573.601</td> <td> 6535.815</td>\n",
       "</tr>\n",
       "<tr>\n",
       "  <th>distance_from_city</th>  <td>-7966.4269</td> <td>  360.902</td> <td>  -22.074</td> <td> 0.000</td> <td>-8673.825</td> <td>-7259.029</td>\n",
       "</tr>\n",
       "<tr>\n",
       "  <th>SD_Auburn</th>           <td>-7.801e+04</td> <td> 1.13e+04</td> <td>   -6.898</td> <td> 0.000</td> <td>   -1e+05</td> <td>-5.58e+04</td>\n",
       "</tr>\n",
       "<tr>\n",
       "  <th>SD_Bellevue</th>         <td> 5.922e+04</td> <td> 1.13e+04</td> <td>    5.234</td> <td> 0.000</td> <td>  3.7e+04</td> <td> 8.14e+04</td>\n",
       "</tr>\n",
       "<tr>\n",
       "  <th>SD_Enumclaw</th>         <td> 2.047e+04</td> <td> 1.24e+04</td> <td>    1.646</td> <td> 0.100</td> <td>-3907.087</td> <td> 4.49e+04</td>\n",
       "</tr>\n",
       "<tr>\n",
       "  <th>SD_FederalWay</th>       <td>-1.041e+05</td> <td> 1.06e+04</td> <td>   -9.825</td> <td> 0.000</td> <td>-1.25e+05</td> <td>-8.33e+04</td>\n",
       "</tr>\n",
       "<tr>\n",
       "  <th>SD_Highline</th>         <td> -9.91e+04</td> <td> 1.09e+04</td> <td>   -9.080</td> <td> 0.000</td> <td> -1.2e+05</td> <td>-7.77e+04</td>\n",
       "</tr>\n",
       "<tr>\n",
       "  <th>SD_Issaquah</th>         <td> 1.524e+04</td> <td> 1.06e+04</td> <td>    1.431</td> <td> 0.152</td> <td>-5629.425</td> <td> 3.61e+04</td>\n",
       "</tr>\n",
       "<tr>\n",
       "  <th>SD_Kent</th>             <td> -1.09e+05</td> <td> 1.04e+04</td> <td>  -10.455</td> <td> 0.000</td> <td>-1.29e+05</td> <td>-8.86e+04</td>\n",
       "</tr>\n",
       "<tr>\n",
       "  <th>SD_LakeWashington</th>   <td> 4.493e+04</td> <td> 1.07e+04</td> <td>    4.198</td> <td> 0.000</td> <td>  2.4e+04</td> <td> 6.59e+04</td>\n",
       "</tr>\n",
       "<tr>\n",
       "  <th>SD_MercerIsland</th>     <td> 1.749e+05</td> <td> 1.39e+04</td> <td>   12.624</td> <td> 0.000</td> <td> 1.48e+05</td> <td> 2.02e+05</td>\n",
       "</tr>\n",
       "<tr>\n",
       "  <th>SD_Northshore</th>       <td> -796.6991</td> <td> 1.08e+04</td> <td>   -0.074</td> <td> 0.941</td> <td> -2.2e+04</td> <td> 2.04e+04</td>\n",
       "</tr>\n",
       "<tr>\n",
       "  <th>SD_Renton</th>           <td>-1.158e+05</td> <td> 1.08e+04</td> <td>  -10.680</td> <td> 0.000</td> <td>-1.37e+05</td> <td>-9.45e+04</td>\n",
       "</tr>\n",
       "<tr>\n",
       "  <th>SD_Riverview</th>        <td> 1.388e+04</td> <td> 1.17e+04</td> <td>    1.184</td> <td> 0.237</td> <td>-9102.895</td> <td> 3.69e+04</td>\n",
       "</tr>\n",
       "<tr>\n",
       "  <th>SD_Seattle</th>          <td>-5203.5260</td> <td> 1.08e+04</td> <td>   -0.480</td> <td> 0.631</td> <td>-2.64e+04</td> <td>  1.6e+04</td>\n",
       "</tr>\n",
       "<tr>\n",
       "  <th>SD_Shoreline</th>        <td>-3.885e+04</td> <td> 1.06e+04</td> <td>   -3.658</td> <td> 0.000</td> <td>-5.97e+04</td> <td> -1.8e+04</td>\n",
       "</tr>\n",
       "<tr>\n",
       "  <th>SD_SnoqualmieValley</th> <td> 5.763e+04</td> <td> 1.11e+04</td> <td>    5.198</td> <td> 0.000</td> <td> 3.59e+04</td> <td> 7.94e+04</td>\n",
       "</tr>\n",
       "<tr>\n",
       "  <th>SD_Tahoma</th>           <td>-3.865e+04</td> <td> 1.11e+04</td> <td>   -3.483</td> <td> 0.000</td> <td>-6.04e+04</td> <td>-1.69e+04</td>\n",
       "</tr>\n",
       "<tr>\n",
       "  <th>SD_Tukwila</th>          <td>-1.438e+05</td> <td> 1.22e+04</td> <td>  -11.808</td> <td> 0.000</td> <td>-1.68e+05</td> <td> -1.2e+05</td>\n",
       "</tr>\n",
       "</table>\n",
       "<table class=\"simpletable\">\n",
       "<tr>\n",
       "  <th>Omnibus:</th>       <td>1207.861</td> <th>  Durbin-Watson:     </th> <td>   1.983</td>\n",
       "</tr>\n",
       "<tr>\n",
       "  <th>Prob(Omnibus):</th>  <td> 0.000</td>  <th>  Jarque-Bera (JB):  </th> <td>2086.329</td>\n",
       "</tr>\n",
       "<tr>\n",
       "  <th>Skew:</th>           <td> 0.470</td>  <th>  Prob(JB):          </th> <td>    0.00</td>\n",
       "</tr>\n",
       "<tr>\n",
       "  <th>Kurtosis:</th>       <td> 4.267</td>  <th>  Cond. No.          </th> <td>3.15e+03</td>\n",
       "</tr>\n",
       "</table><br/><br/>Warnings:<br/>[1] Standard Errors assume that the covariance matrix of the errors is correctly specified.<br/>[2] The condition number is large, 3.15e+03. This might indicate that there are<br/>strong multicollinearity or other numerical problems."
      ],
      "text/plain": [
       "<class 'statsmodels.iolib.summary.Summary'>\n",
       "\"\"\"\n",
       "                            OLS Regression Results                            \n",
       "==============================================================================\n",
       "Dep. Variable:                  price   R-squared:                       0.717\n",
       "Model:                            OLS   Adj. R-squared:                  0.716\n",
       "Method:                 Least Squares   F-statistic:                     1883.\n",
       "Date:                Wed, 10 Feb 2021   Prob (F-statistic):               0.00\n",
       "Time:                        12:00:56   Log-Likelihood:            -2.6132e+05\n",
       "No. Observations:               20137   AIC:                         5.227e+05\n",
       "Df Residuals:                   20109   BIC:                         5.229e+05\n",
       "Df Model:                          27                                         \n",
       "Covariance Type:            nonrobust                                         \n",
       "=======================================================================================\n",
       "                          coef    std err          t      P>|t|      [0.025      0.975]\n",
       "---------------------------------------------------------------------------------------\n",
       "Intercept           -4.828e+05   1.44e+04    -33.457      0.000   -5.11e+05   -4.54e+05\n",
       "bedrooms             1.498e+04   1013.097     14.789      0.000     1.3e+04     1.7e+04\n",
       "bathrooms            5.056e+04   1700.316     29.737      0.000    4.72e+04    5.39e+04\n",
       "floors               1.449e+04   2018.740      7.176      0.000    1.05e+04    1.84e+04\n",
       "waterfront           1.475e+05   1.59e+04      9.290      0.000    1.16e+05    1.79e+05\n",
       "view                 3.346e+04   1290.963     25.922      0.000    3.09e+04     3.6e+04\n",
       "condition            1.922e+04   1262.306     15.229      0.000    1.67e+04    2.17e+04\n",
       "grade                9.833e+04   1008.435     97.511      0.000    9.64e+04       1e+05\n",
       "yrs_old              1551.7721     40.269     38.535      0.000    1472.842    1630.702\n",
       "basement             2981.1073   1813.551      1.644      0.100    -573.601    6535.815\n",
       "distance_from_city  -7966.4269    360.902    -22.074      0.000   -8673.825   -7259.029\n",
       "SD_Auburn           -7.801e+04   1.13e+04     -6.898      0.000      -1e+05   -5.58e+04\n",
       "SD_Bellevue          5.922e+04   1.13e+04      5.234      0.000     3.7e+04    8.14e+04\n",
       "SD_Enumclaw          2.047e+04   1.24e+04      1.646      0.100   -3907.087    4.49e+04\n",
       "SD_FederalWay       -1.041e+05   1.06e+04     -9.825      0.000   -1.25e+05   -8.33e+04\n",
       "SD_Highline          -9.91e+04   1.09e+04     -9.080      0.000    -1.2e+05   -7.77e+04\n",
       "SD_Issaquah          1.524e+04   1.06e+04      1.431      0.152   -5629.425    3.61e+04\n",
       "SD_Kent              -1.09e+05   1.04e+04    -10.455      0.000   -1.29e+05   -8.86e+04\n",
       "SD_LakeWashington    4.493e+04   1.07e+04      4.198      0.000     2.4e+04    6.59e+04\n",
       "SD_MercerIsland      1.749e+05   1.39e+04     12.624      0.000    1.48e+05    2.02e+05\n",
       "SD_Northshore        -796.6991   1.08e+04     -0.074      0.941    -2.2e+04    2.04e+04\n",
       "SD_Renton           -1.158e+05   1.08e+04    -10.680      0.000   -1.37e+05   -9.45e+04\n",
       "SD_Riverview         1.388e+04   1.17e+04      1.184      0.237   -9102.895    3.69e+04\n",
       "SD_Seattle          -5203.5260   1.08e+04     -0.480      0.631   -2.64e+04     1.6e+04\n",
       "SD_Shoreline        -3.885e+04   1.06e+04     -3.658      0.000   -5.97e+04    -1.8e+04\n",
       "SD_SnoqualmieValley  5.763e+04   1.11e+04      5.198      0.000    3.59e+04    7.94e+04\n",
       "SD_Tahoma           -3.865e+04   1.11e+04     -3.483      0.000   -6.04e+04   -1.69e+04\n",
       "SD_Tukwila          -1.438e+05   1.22e+04    -11.808      0.000   -1.68e+05    -1.2e+05\n",
       "==============================================================================\n",
       "Omnibus:                     1207.861   Durbin-Watson:                   1.983\n",
       "Prob(Omnibus):                  0.000   Jarque-Bera (JB):             2086.329\n",
       "Skew:                           0.470   Prob(JB):                         0.00\n",
       "Kurtosis:                       4.267   Cond. No.                     3.15e+03\n",
       "==============================================================================\n",
       "\n",
       "Warnings:\n",
       "[1] Standard Errors assume that the covariance matrix of the errors is correctly specified.\n",
       "[2] The condition number is large, 3.15e+03. This might indicate that there are\n",
       "strong multicollinearity or other numerical problems.\n",
       "\"\"\""
      ]
     },
     "execution_count": 27,
     "metadata": {},
     "output_type": "execute_result"
    }
   ],
   "source": [
    "model = ols(formula=formula, data=dfh).fit()\n",
    "model.summary()"
   ]
  },
  {
   "cell_type": "markdown",
   "metadata": {},
   "source": [
    "## Model Validation"
   ]
  },
  {
   "cell_type": "code",
   "execution_count": 10,
   "metadata": {},
   "outputs": [],
   "source": [
    "dfh.dropna(inplace = True)"
   ]
  },
  {
   "cell_type": "code",
   "execution_count": 11,
   "metadata": {},
   "outputs": [
    {
     "data": {
      "text/plain": [
       "price                  0\n",
       "bedrooms               0\n",
       "bathrooms              0\n",
       "floors                 0\n",
       "waterfront             0\n",
       "view                   0\n",
       "condition              0\n",
       "grade                  0\n",
       "yrs_old                0\n",
       "renovated              0\n",
       "basement               0\n",
       "distance_from_city     0\n",
       "SD_Auburn              0\n",
       "SD_Bellevue            0\n",
       "SD_Enumclaw            0\n",
       "SD_FederalWay          0\n",
       "SD_Highline            0\n",
       "SD_Issaquah            0\n",
       "SD_Kent                0\n",
       "SD_LakeWashington      0\n",
       "SD_MercerIsland        0\n",
       "SD_Northshore          0\n",
       "SD_Renton              0\n",
       "SD_Riverview           0\n",
       "SD_Seattle             0\n",
       "SD_Shoreline           0\n",
       "SD_SnoqualmieValley    0\n",
       "SD_Tahoma              0\n",
       "SD_Tukwila             0\n",
       "SD_VashonIsland        0\n",
       "dtype: int64"
      ]
     },
     "execution_count": 11,
     "metadata": {},
     "output_type": "execute_result"
    }
   ],
   "source": [
    "dfh.isnull().sum()"
   ]
  },
  {
   "cell_type": "code",
   "execution_count": 12,
   "metadata": {},
   "outputs": [],
   "source": [
    "y = dfh[['price']]\n",
    "X = dfh.drop(['price'], axis = 1)"
   ]
  },
  {
   "cell_type": "code",
   "execution_count": 13,
   "metadata": {},
   "outputs": [],
   "source": [
    "from sklearn.model_selection import train_test_split\n",
    "X_train, X_test, y_train, y_test = train_test_split(X, y, test_size=0.2, random_state=42)"
   ]
  },
  {
   "cell_type": "code",
   "execution_count": 14,
   "metadata": {},
   "outputs": [
    {
     "name": "stdout",
     "output_type": "stream",
     "text": [
      "16109 4028 16109 4028\n"
     ]
    }
   ],
   "source": [
    "print(len(X_train), len(X_test), len(y_train), len(y_test))"
   ]
  },
  {
   "cell_type": "code",
   "execution_count": 15,
   "metadata": {},
   "outputs": [],
   "source": [
    "from sklearn.linear_model import LinearRegression\n",
    "linreg = LinearRegression()\n",
    "linreg.fit(X_train, y_train)\n",
    "\n",
    "y_hat_train = linreg.predict(X_train)\n",
    "y_hat_test = linreg.predict(X_test)"
   ]
  },
  {
   "cell_type": "code",
   "execution_count": 16,
   "metadata": {},
   "outputs": [
    {
     "name": "stdout",
     "output_type": "stream",
     "text": [
      "Train Mean Squarred Error: 10945348457.71419\n",
      "Test Mean Squarred Error: 10957720754.293911\n"
     ]
    }
   ],
   "source": [
    "from sklearn.metrics import mean_squared_error\n",
    "\n",
    "train_mse = mean_squared_error(y_train, y_hat_train)\n",
    "test_mse = mean_squared_error(y_test, y_hat_test)\n",
    "print('Train Mean Squarred Error:', train_mse)\n",
    "print('Test Mean Squarred Error:', test_mse)"
   ]
  },
  {
   "cell_type": "code",
   "execution_count": 17,
   "metadata": {},
   "outputs": [],
   "source": [
    "resid = model.resid"
   ]
  },
  {
   "cell_type": "code",
   "execution_count": 18,
   "metadata": {},
   "outputs": [
    {
     "data": {
      "image/png": "[encoded data removed]",
      "text/plain": [
       "<Figure size 432x288 with 1 Axes>"
      ]
     },
     "metadata": {
      "needs_background": "light"
     },
     "output_type": "display_data"
    }
   ],
   "source": [
    "fig = sm.graphics.qqplot(resid, dist = stats.norm, line = '45', fit = True)"
   ]
  },
  {
   "cell_type": "code",
   "execution_count": 19,
   "metadata": {},
   "outputs": [
    {
     "data": {
      "image/png": "[encoded data removed]",
      "text/plain": [
       "<Figure size 1080x576 with 4 Axes>"
      ]
     },
     "metadata": {
      "needs_background": "light"
     },
     "output_type": "display_data"
    }
   ],
   "source": [
    "fig = plt.figure(figsize=(15,8))\n",
    "fig = sm.graphics.plot_regress_exog(model, \"grade\", fig=fig)\n",
    "plt.show()"
   ]
  },
  {
   "cell_type": "markdown",
   "metadata": {},
   "source": [
    "## Cross Validation"
   ]
  },
  {
   "cell_type": "code",
   "execution_count": 20,
   "metadata": {},
   "outputs": [],
   "source": [
    "from sklearn.metrics import mean_squared_error\n",
    "from sklearn.model_selection import cross_val_score\n",
    "\n",
    "cv_5_results  = np.mean(cross_val_score(linreg, X, y, cv=5,  scoring='neg_mean_squared_error'))\n",
    "cv_10_results = np.mean(cross_val_score(linreg, X, y, cv=10, scoring='neg_mean_squared_error'))\n",
    "cv_20_results = np.mean(cross_val_score(linreg, X, y, cv=20, scoring='neg_mean_squared_error'))"
   ]
  },
  {
   "cell_type": "code",
   "execution_count": 21,
   "metadata": {},
   "outputs": [
    {
     "name": "stdout",
     "output_type": "stream",
     "text": [
      "-11069558121.396116\n",
      "-11079457126.812057\n",
      "-11020412038.077005\n"
     ]
    }
   ],
   "source": [
    "print(cv_5_results)\n",
    "print(cv_10_results)\n",
    "print(cv_20_results)"
   ]
  },
  {
   "cell_type": "code",
   "execution_count": null,
   "metadata": {},
   "outputs": [],
   "source": []
  }
 ],
 "metadata": {
  "kernelspec": {
   "display_name": "learn-env",
   "language": "python",
   "name": "learn-env"
  },
  "language_info": {
   "codemirror_mode": {
    "name": "ipython",
    "version": 3
   },
   "file_extension": ".py",
   "mimetype": "text/x-python",
   "name": "python",
   "nbconvert_exporter": "python",
   "pygments_lexer": "ipython3",
   "version": "3.6.6"
  },
  "toc": {
   "base_numbering": 1,
   "nav_menu": {},
   "number_sections": true,
   "sideBar": true,
   "skip_h1_title": false,
   "title_cell": "Table of Contents",
   "title_sidebar": "Contents",
   "toc_cell": false,
   "toc_position": {},
   "toc_section_display": true,
   "toc_window_display": false
  }
 },
 "nbformat": 4,
 "nbformat_minor": 4
}
